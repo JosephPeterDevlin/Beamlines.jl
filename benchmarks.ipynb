{
 "cells": [
  {
   "cell_type": "code",
   "execution_count": 14,
   "metadata": {},
   "outputs": [],
   "source": [
    "using Revise\n",
    "import AcceleratorLattice as AL\n",
    "import Beamlines as BL\n",
    "using BenchmarkTools"
   ]
  },
  {
   "cell_type": "markdown",
   "metadata": {},
   "source": [
    "__Creating an element__\n",
    "\n",
    "AcceleratorLattice"
   ]
  },
  {
   "cell_type": "code",
   "execution_count": 18,
   "metadata": {},
   "outputs": [
    {
     "name": "stdout",
     "output_type": "stream",
     "text": [
      "  20.584 μs (305 allocations: 13.27 KiB)\n"
     ]
    }
   ],
   "source": [
    "K1 = 0.36\n",
    "L = 0.5\n",
    "@btime AL.Quadrupole($\"qf\", Kn1=$K1, L=$L);"
   ]
  },
  {
   "cell_type": "markdown",
   "metadata": {},
   "source": [
    "Beamlines"
   ]
  },
  {
   "cell_type": "code",
   "execution_count": 19,
   "metadata": {},
   "outputs": [
    {
     "name": "stdout",
     "output_type": "stream",
     "text": [
      "  1.321 μs (29 allocations: 1.31 KiB)\n"
     ]
    }
   ],
   "source": [
    "@btime BL.Quadrupole(name=$\"qf\", K1=$K1, L=$L);"
   ]
  },
  {
   "cell_type": "markdown",
   "metadata": {},
   "source": [
    "**Getting/setting element outside of beamline**\n",
    "\n",
    "AcceleratorLattice"
   ]
  },
  {
   "cell_type": "code",
   "execution_count": 27,
   "metadata": {},
   "outputs": [
    {
     "name": "stdout",
     "output_type": "stream",
     "text": [
      "  2.801 μs (59 allocations: 2.41 KiB)\n",
      "  3.641 μs (76 allocations: 3.02 KiB)\n",
      "  4.571 μs (91 allocations: 3.63 KiB)\n",
      "  3.656 μs (76 allocations: 3.02 KiB)\n"
     ]
    },
    {
     "data": {
      "text/plain": [
       "0.36"
      ]
     },
     "metadata": {},
     "output_type": "display_data"
    }
   ],
   "source": [
    "qf_AL = AL.Quadrupole(\"qf\", Kn1=K1, L=L)\n",
    "@btime $(qf_AL).Kn1\n",
    "@btime $(qf_AL).Kn1L\n",
    "@btime $(qf_AL).Kn1 = $(0.36*2)\n",
    "@btime $(qf_AL).Kn1L"
   ]
  },
  {
   "cell_type": "markdown",
   "metadata": {},
   "source": [
    "Beamlines"
   ]
  },
  {
   "cell_type": "code",
   "execution_count": 28,
   "metadata": {},
   "outputs": [
    {
     "name": "stdout",
     "output_type": "stream",
     "text": [
      "  73.639 ns (3 allocations: 48 bytes)\n",
      "  134.308 ns (4 allocations: 64 bytes)\n",
      "  141.588 ns (6 allocations: 96 bytes)\n",
      "  135.243 ns (4 allocations: 64 bytes)\n"
     ]
    },
    {
     "data": {
      "text/plain": [
       "0.36"
      ]
     },
     "metadata": {},
     "output_type": "display_data"
    }
   ],
   "source": [
    "qf_BL = BL.Quadrupole(name=\"qf\", K1=K1, L=L)\n",
    "@btime $(qf_BL).K1\n",
    "@btime $(qf_BL).K1L\n",
    "@btime $(qf_BL).K1 = $(0.36*2)\n",
    "@btime $(qf_BL).K1L"
   ]
  },
  {
   "cell_type": "markdown",
   "metadata": {},
   "source": [
    "**s position**\n",
    "\n",
    "AcceleratorLattice"
   ]
  },
  {
   "cell_type": "code",
   "execution_count": 47,
   "metadata": {},
   "outputs": [
    {
     "data": {
      "text/plain": [
       "Beamlines.UniversalParams(nothing, 0.5, \"Quadrupole\", \"qf\")"
      ]
     },
     "metadata": {},
     "output_type": "display_data"
    }
   ],
   "source": []
  },
  {
   "cell_type": "code",
   "execution_count": 41,
   "metadata": {},
   "outputs": [
    {
     "ename": "KeyError",
     "evalue": "KeyError: key :LengthParams not found",
     "output_type": "error",
     "traceback": [
      "KeyError: key :LengthParams not found\n",
      "\n",
      "Stacktrace:\n",
      " [1] getindex(h::Dict{Symbol, Any}, key::Symbol)\n",
      "   @ Base ./dict.jl:477\n",
      " [2] add_beamline_ele_to_branch!(branch::AcceleratorLattice.Branch, bele::AcceleratorLattice.BeamLineEle, info::AcceleratorLattice.LatticeConstructionInfo)\n",
      "   @ AcceleratorLattice ~/.julia/dev/AcceleratorLattice/src/lat_construction.jl:160\n",
      " [3] add_beamline_item_to_branch!\n",
      "   @ ~/.julia/dev/AcceleratorLattice/src/lat_construction.jl:184 [inlined]\n",
      " [4] add_beamline_line_to_branch!(branch::AcceleratorLattice.Branch, beamline::AcceleratorLattice.BeamLine, info::AcceleratorLattice.LatticeConstructionInfo)\n",
      "   @ AcceleratorLattice ~/.julia/dev/AcceleratorLattice/src/lat_construction.jl:221\n",
      " [5] new_tracking_branch!(lat::AcceleratorLattice.Lattice, bline::AcceleratorLattice.BeamLine)\n",
      "   @ AcceleratorLattice ~/.julia/dev/AcceleratorLattice/src/lat_construction.jl:262\n",
      " [6] AcceleratorLattice.Lattice(root_lines::Vector{AcceleratorLattice.BeamLine}; name::String)\n",
      "   @ AcceleratorLattice ~/.julia/dev/AcceleratorLattice/src/lat_construction.jl:328\n",
      " [7] Lattice\n",
      "   @ ~/.julia/dev/AcceleratorLattice/src/lat_construction.jl:317 [inlined]\n",
      " [8] AcceleratorLattice.Lattice(root_line::AcceleratorLattice.BeamLine)\n",
      "   @ AcceleratorLattice ~/.julia/dev/AcceleratorLattice/src/lat_construction.jl:315\n",
      " [9] top-level scope\n",
      "   @ ~/.julia/dev/Beamlines/benchmarks.ipynb:9"
     ]
    }
   ],
   "source": [
    "K1 = 0.36\n",
    "L=0.5\n",
    "begin0 = AL.BeginningEle(\"begin0\", pc_ref = 1e7, species_ref = AL.Species(\"electron\"))\n",
    "qf_AL = AL.Quadrupole(\"qf\", Kn1=K1, L=L)\n",
    "d1_AL = AL.Drift(\"d1\", L=4.5)\n",
    "qd_AL = AL.Quadrupole(\"qd\", Kn1=-qf_AL.Kn1, L=qf_AL.L)\n",
    "d2_AL = AL.Drift(\"d2\", L=4.5)\n",
    "\n",
    "lat = AL.Lattice(AL.BeamLine([qf_AL,d1_AL,qd_AL,d2_AL]))"
   ]
  }
 ],
 "metadata": {
  "kernelspec": {
   "display_name": "Julia 1.11.0-rc3",
   "language": "julia",
   "name": "julia-1.11"
  },
  "language_info": {
   "file_extension": ".jl",
   "mimetype": "application/julia",
   "name": "julia",
   "version": "1.11.0-rc3"
  }
 },
 "nbformat": 4,
 "nbformat_minor": 2
}
